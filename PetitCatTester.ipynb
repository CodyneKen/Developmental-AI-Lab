{
 "cells": [
  {
   "cell_type": "markdown",
   "id": "a69f7a5e-2c74-46f8-bf09-5ad14011c960",
   "metadata": {},
   "source": [
    "This notebook helps you test your PetitCat robot. The documentation is here [https://github.com/OlivierGeorgeon/TestROS/wiki/Utiliser-le-robot-osyoo]()"
   ]
  },
  {
   "cell_type": "markdown",
   "id": "cd88da2e-1641-45fa-8b9e-02b55c410a48",
   "metadata": {},
   "source": [
    "# Initialize the code"
   ]
  },
  {
   "cell_type": "code",
   "execution_count": 49,
   "id": "6a4081d4-6a25-4c2f-99aa-8703a24a36af",
   "metadata": {},
   "outputs": [],
   "source": [
    "# @title Initialize the PetitCat Tester\n",
    "import socket\n",
    "import json\n",
    "\n",
    "class PetitCatTester:\n",
    "    def __init__(self, ip, time_out, port=8888):\n",
    "        self.IP = ip\n",
    "        self.port = port\n",
    "        self.socket = socket.socket(socket.AF_INET, socket.SOCK_DGRAM)\n",
    "        self.socket.settimeout(time_out)\n",
    "        self.clock = 0\n",
    "        self.color = None\n",
    "        self.duration = None\n",
    "        self.angle = None\n",
    "        self.span = None\n",
    "\n",
    "    def enact(self, action_string):\n",
    "        \"\"\" Sending the action string, waiting for the outcome, and returning the outcome bytes \"\"\"\n",
    "        outcome = None  # Default if timeout\n",
    "        # print(\"sending \" + action)\n",
    "        self.socket.sendto(bytes(action_string, 'utf-8'), (self.IP, self.port))\n",
    "        try:\n",
    "            outcome, address = self.socket.recvfrom(512)\n",
    "        except socket.error as error:  # Time out error when robot is not connected\n",
    "            print(error)\n",
    "        return outcome\n",
    "\n",
    "    def send(self, action):\n",
    "        command_dict = {'clock': self.clock, 'action': action }\n",
    "        if self.color is not None:\n",
    "            command_dict['color'] = self.color\n",
    "        if self.duration is not None:\n",
    "            command_dict['duration'] = self.duration\n",
    "        if self.angle is not None:\n",
    "            command_dict['angle'] = self.angle\n",
    "        action_string = json.dumps(command_dict)    \n",
    "        print(\"Sending packet:\", action_string)\n",
    "        _outcome = self.enact(action_string)\n",
    "        print(\"Received packet:\", _outcome)\n",
    "        if _outcome is not None:\n",
    "            self.clock += 1\n",
    "        print(\"Next clock:\", self.clock)\n"
   ]
  },
  {
   "cell_type": "markdown",
   "id": "5459356a-30b9-496e-bc96-500cb0ba41dc",
   "metadata": {},
   "source": [
    "# Connect to the robot"
   ]
  },
  {
   "cell_type": "markdown",
   "id": "f918e102-b3d3-4395-b984-2c673bb94a66",
   "metadata": {},
   "source": [
    "Make sure that your Robot and your PC are connected to the same wifi network. Enter your robot's IP address and the timeout:"
   ]
  },
  {
   "cell_type": "code",
   "execution_count": 50,
   "id": "e2557874-c06d-4d33-8ed7-c35f0f334c75",
   "metadata": {},
   "outputs": [],
   "source": [
    "robot_ip = \"192.168.8.242\"\n",
    "timeout = 5"
   ]
  },
  {
   "cell_type": "code",
   "execution_count": 51,
   "id": "761de3d8-94f5-470c-854f-7ba940089697",
   "metadata": {},
   "outputs": [],
   "source": [
    "# @title Connect to the robot\n",
    "petitcat_tester = PetitCatTester(robot_ip, timeout)"
   ]
  },
  {
   "cell_type": "markdown",
   "id": "259dd048-be3a-4615-8224-c2d42c10cb70",
   "metadata": {},
   "source": [
    "# Send commands"
   ]
  },
  {
   "cell_type": "raw",
   "id": "97142c6a-0179-4695-a120-af9287b9d0b9",
   "metadata": {},
   "source": [
    "The robot will execute your command and send the outcome packet back to the PC.\n",
    "\r\n",
    "If the wifi connection fails, the timeout is triggered and the outcome packet is None. The clock is not incremented\n",
    "\n",
    "If you resend a command packet containing a clock equal to the previous one, the robot will not re-execute the command. It will immediately resend the outcome packet bac.."
   ]
  },
  {
   "cell_type": "code",
   "execution_count": null,
   "id": "58a76869-cfe8-45a9-bf10-7da0de4cd4ac",
   "metadata": {},
   "outputs": [],
   "source": [
    "# @title Command 8: Forward\n",
    "petitcat_tester.send(\"8\")"
   ]
  },
  {
   "cell_type": "code",
   "execution_count": null,
   "id": "52b29fdd-c406-46f1-a41f-53680f583efc",
   "metadata": {},
   "outputs": [],
   "source": [
    "# @title Command 4: Swipe left\n",
    "petitcat_tester.send(\"4\")"
   ]
  },
  {
   "cell_type": "code",
   "execution_count": null,
   "id": "b179eca6-d164-49ce-9de6-14c6704fd6e9",
   "metadata": {},
   "outputs": [],
   "source": [
    "# @title Command 6: Swipe Right\n",
    "petitcat_tester.send(\"6\")"
   ]
  },
  {
   "cell_type": "code",
   "execution_count": null,
   "id": "023123b4-67d5-4e13-86f7-005ca31e7153",
   "metadata": {},
   "outputs": [],
   "source": [
    "# @title Command 1: Turn left\n",
    "petitcat_tester.send(\"1\")"
   ]
  },
  {
   "cell_type": "code",
   "execution_count": null,
   "id": "0d6cb1e4-4054-4836-843c-3eb50ad05f06",
   "metadata": {},
   "outputs": [],
   "source": [
    "# @title Command 3: Turn right\n",
    "petitcat_tester.send(\"3\")"
   ]
  },
  {
   "cell_type": "code",
   "execution_count": null,
   "id": "2f965c38-da80-45a6-91d2-aa19560d9d06",
   "metadata": {},
   "outputs": [],
   "source": [
    "# @title Command 2: Backward\n",
    "petitcat_tester.send(\"2\")"
   ]
  },
  {
   "cell_type": "code",
   "execution_count": null,
   "id": "676947e9-a9dc-4568-b7db-a7bb14dab0e7",
   "metadata": {},
   "outputs": [],
   "source": [
    "# @title Command -: Scan\n",
    "petitcat_tester.send(\"-\")"
   ]
  },
  {
   "cell_type": "markdown",
   "id": "5c86e205-0ec2-4c84-b918-48ca8b257483",
   "metadata": {},
   "source": [
    "# Send optional fields"
   ]
  },
  {
   "cell_type": "markdown",
   "id": "4b6a281e-f583-4db2-881a-d35e33f5d2d1",
   "metadata": {},
   "source": [
    "Modify these optional fields and resend some commands. If the variable is None, the field is omited in the command packet."
   ]
  },
  {
   "cell_type": "code",
   "execution_count": 45,
   "id": "f094f60a-a019-4378-9e54-9d7be599ab6e",
   "metadata": {},
   "outputs": [],
   "source": [
    "# The led color: 0, 1, 2, 3 ,4, 5, or None\n",
    "petitcat_tester.color = 1\n",
    "# The duration of translations in milliseconds or None\n",
    "petitcat_tester.duration = None\n",
    "# The angle of rotation in degrees or None\n",
    "petitcat_tester.angle = None\n",
    "# The span of scan saccades in degrees or None\n",
    "petitcat_tester.span = 10"
   ]
  }
 ],
 "metadata": {
  "kernelspec": {
   "display_name": "Python 3 (ipykernel)",
   "language": "python",
   "name": "python3"
  },
  "language_info": {
   "codemirror_mode": {
    "name": "ipython",
    "version": 3
   },
   "file_extension": ".py",
   "mimetype": "text/x-python",
   "name": "python",
   "nbconvert_exporter": "python",
   "pygments_lexer": "ipython3",
   "version": "3.9.5"
  }
 },
 "nbformat": 4,
 "nbformat_minor": 5
}
